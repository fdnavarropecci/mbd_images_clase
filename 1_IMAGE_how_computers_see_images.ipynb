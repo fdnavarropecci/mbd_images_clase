{
 "cells": [
  {
   "cell_type": "code",
   "execution_count": 1,
   "metadata": {
    "colab": {
     "base_uri": "https://localhost:8080/",
     "height": 281
    },
    "executionInfo": {
     "elapsed": 1739,
     "status": "ok",
     "timestamp": 1612722606929,
     "user": {
      "displayName": "Ana Laguna Pradas",
      "photoUrl": "https://lh3.googleusercontent.com/a-/AOh14GgrhKfb8uAlQne6LHdQkXhF0K1om9EbsywWt3Ki=s64",
      "userId": "04586459829917851529"
     },
     "user_tz": -60
    },
    "id": "0J_ItSdQ6rL2",
    "outputId": "cd53d176-148b-48d5-966a-ab1203547362"
   },
   "outputs": [
    {
     "data": {
      "text/plain": [
       "<matplotlib.image.AxesImage at 0x21a9dfe6e88>"
      ]
     },
     "execution_count": 1,
     "metadata": {},
     "output_type": "execute_result"
    },
    {
     "data": {
      "image/png": "[encoded data removed]",
      "text/plain": [
       "<Figure size 432x288 with 1 Axes>"
      ]
     },
     "metadata": {
      "needs_background": "light"
     },
     "output_type": "display_data"
    }
   ],
   "source": [
    "#PYSOURCE\n",
    "#We’re going to understand today how do computers see images. I’m going to explain that using python with opencv.\n",
    "\n",
    "import cv2\n",
    "import numpy as np\n",
    "import matplotlib.pyplot as plt\n",
    "\n",
    "\n",
    "# Black square : pixels and channels\n",
    "img = np.zeros((10, 10, 3), np.uint8)\n",
    "plt.imshow(img)\n"
   ]
  },
  {
   "cell_type": "code",
   "execution_count": 2,
   "metadata": {
    "colab": {
     "base_uri": "https://localhost:8080/",
     "height": 281
    },
    "executionInfo": {
     "elapsed": 1571,
     "status": "ok",
     "timestamp": 1612722610638,
     "user": {
      "displayName": "Ana Laguna Pradas",
      "photoUrl": "https://lh3.googleusercontent.com/a-/AOh14GgrhKfb8uAlQne6LHdQkXhF0K1om9EbsywWt3Ki=s64",
      "userId": "04586459829917851529"
     },
     "user_tz": -60
    },
    "id": "W_prEgZpZeso",
    "outputId": "97c3cac7-5907-464d-f39b-093a9d3b4086"
   },
   "outputs": [
    {
     "data": {
      "text/plain": [
       "<matplotlib.image.AxesImage at 0x21a9e0e9408>"
      ]
     },
     "execution_count": 2,
     "metadata": {},
     "output_type": "execute_result"
    },
    {
     "data": {
      "image/png": "[encoded data removed]",
      "text/plain": [
       "<Figure size 432x288 with 1 Axes>"
      ]
     },
     "metadata": {
      "needs_background": "light"
     },
     "output_type": "display_data"
    }
   ],
   "source": [
    "\n",
    "\n",
    "\n",
    "# Black square with colors per pixel  RGB\n",
    "img = np.zeros((10, 10, 3), np.uint8)\n",
    "img[0, 0] = (255, 0, 0)  # Blue\n",
    "img[0, 1] = (0, 255, 0)  # Green\n",
    "img[0, 2] = (0, 0, 255)  # Red\n",
    "img[1, 0] = (0, 150, 150)  # Yellow (green + red)\n",
    "img[1, 1] = (150, 0, 180)  # Magenta (blue + red)\n",
    "img[1, 2] = (255, 255, 255)  # Magenta (blue + red)\n",
    "\n",
    "\n",
    "\n",
    "# Resizing the image x100 to see each pixel big\n",
    "img = cv2.resize(img, (10, 10), interpolation=cv2.INTER_AREA)\n",
    "\n",
    "# Show the image\n",
    "plt.imshow(img)\n",
    "\n",
    "#cv2.imshow(\"Image\", img)\n",
    "#cv2.waitKey(0)"
   ]
  },
  {
   "cell_type": "code",
   "execution_count": 6,
   "metadata": {
    "id": "qHPwQN3n8mVa"
   },
   "outputs": [
    {
     "data": {
      "text/plain": [
       "<matplotlib.image.AxesImage at 0x21a9e281848>"
      ]
     },
     "execution_count": 6,
     "metadata": {},
     "output_type": "execute_result"
    },
    {
     "data": {
      "image/png": "[encoded data removed]",
      "text/plain": [
       "<Figure size 432x288 with 1 Axes>"
      ]
     },
     "metadata": {
      "needs_background": "light"
     },
     "output_type": "display_data"
    }
   ],
   "source": [
    "#YOUR TURN :\n",
    "#Compose new colors\n",
    "#add magenta line \n",
    "\n",
    "# Black square with colors per pixel  RGB\n",
    "img = np.zeros((10, 10, 3), np.uint8)\n",
    "img[0, 0] = (255, 0, 0)  # Blue\n",
    "img[0, 1] = (0, 255, 0)  # Green\n",
    "img[0, 2] = (0, 0, 255)  # Red\n",
    "img[1, 0] = (0, 150, 150)  # Yellow (green + red)\n",
    "img[1, 1] = (150, 0, 180)  # Magenta (blue + red)\n",
    "img[1, 2] = (255, 255, 255)  # Magenta (blue + red)\n",
    "img[2,] = (150, 0, 180)  # Magenta (blue + red)\n",
    "\n",
    "\n",
    "# Resizing the image x100 to see each pixel big\n",
    "img = cv2.resize(img, (10, 10), interpolation=cv2.INTER_AREA)\n",
    "\n",
    "# Show the image\n",
    "plt.imshow(img)\n",
    "\n",
    "#cv2.imshow(\"Image\", img)\n",
    "#cv2.waitKey(0)"
   ]
  },
  {
   "cell_type": "code",
   "execution_count": 5,
   "metadata": {
    "id": "84OGDPLj8P6f"
   },
   "outputs": [
    {
     "data": {
      "text/plain": [
       "<matplotlib.image.AxesImage at 0x21a9e219948>"
      ]
     },
     "execution_count": 5,
     "metadata": {},
     "output_type": "execute_result"
    },
    {
     "data": {
      "image/png": "[encoded data removed]",
      "text/plain": [
       "<Figure size 432x288 with 1 Axes>"
      ]
     },
     "metadata": {
      "needs_background": "light"
     },
     "output_type": "display_data"
    }
   ],
   "source": [
    "\n",
    "# Results\n",
    "img = np.zeros((10, 10, 3), np.uint8)\n",
    "img[1, ] = (150, 0, 180)  # Magenta\n",
    "img = cv2.resize(img, (10, 10), interpolation=cv2.INTER_AREA)\n",
    "plt.imshow(img)\n",
    "\n"
   ]
  },
  {
   "cell_type": "code",
   "execution_count": null,
   "metadata": {
    "id": "SGv9Skj-8LQb"
   },
   "outputs": [],
   "source": []
  }
 ],
 "metadata": {
  "colab": {
   "collapsed_sections": [],
   "name": "1_IMAGE_how_computers_see_images.ipynb",
   "provenance": []
  },
  "kernelspec": {
   "display_name": "Python [conda env:tecnologias]",
   "language": "python",
   "name": "conda-env-tecnologias-py"
  },
  "language_info": {
   "codemirror_mode": {
    "name": "ipython",
    "version": 3
   },
   "file_extension": ".py",
   "mimetype": "text/x-python",
   "name": "python",
   "nbconvert_exporter": "python",
   "pygments_lexer": "ipython3",
   "version": "3.7.9"
  }
 },
 "nbformat": 4,
 "nbformat_minor": 4
}
